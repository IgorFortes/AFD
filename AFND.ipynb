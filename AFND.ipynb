{
  "nbformat": 4,
  "nbformat_minor": 0,
  "metadata": {
    "colab": {
      "name": "AFND.ipynb",
      "provenance": [],
      "collapsed_sections": [],
      "toc_visible": true,
      "include_colab_link": true
    },
    "kernelspec": {
      "name": "python3",
      "display_name": "Python 3"
    },
    "language_info": {
      "name": "python"
    }
  },
  "cells": [
    {
      "cell_type": "markdown",
      "metadata": {
        "id": "view-in-github",
        "colab_type": "text"
      },
      "source": [
        "<a href=\"https://colab.research.google.com/github/IgorFortes/AFD/blob/main/AFND.ipynb\" target=\"_parent\"><img src=\"https://colab.research.google.com/assets/colab-badge.svg\" alt=\"Open In Colab\"/></a>"
      ]
    },
    {
      "cell_type": "code",
      "metadata": {
        "id": "HqbmONfggKZj",
        "colab": {
          "base_uri": "https://localhost:8080/"
        },
        "outputId": "a54562f6-f462-4633-ddf1-7b0dd3a17717"
      },
      "source": [
        "import numpy as np\n",
        "\n",
        "with open('automato.txt') as f:\n",
        "  automato = f.readlines()\n",
        "\n",
        "matriz = np.zeros((len(automato[0].rstrip(\"\\n\").rstrip(\" \").split())\n",
        "        ,len(automato[1].rstrip(\"\\n\").rstrip(\" \").split())+1)\n",
        "        ,dtype=np.object)\n",
        "\n",
        "line = 2\n",
        "for linha in range(0, len(automato[0].rstrip(\"\\n\").rstrip(\" \").split())):\n",
        "  for coluna in range(0, len(automato[1].rstrip(\"\\n\").rstrip(\" \").split())+1):\n",
        "    matriz[linha, coluna] = automato[line].rstrip(\"\\n\").rstrip(\" \")\n",
        "    line = line + 1\n",
        "print(matriz)\n",
        "\n",
        "inicial = automato[line].rstrip(\"\\n\").rstrip(\" \")\n",
        "final = automato[line+1].rstrip(\"\\n\").rstrip(\" \")"
      ],
      "execution_count": 88,
      "outputs": [
        {
          "output_type": "stream",
          "text": [
            "[['q1' 'q1 q2' '*']\n",
            " ['q3' '*' 'q3']\n",
            " ['*' 'q4' '*']\n",
            " ['q4' 'q4' '*']]\n"
          ],
          "name": "stdout"
        }
      ]
    },
    {
      "cell_type": "code",
      "metadata": {
        "colab": {
          "base_uri": "https://localhost:8080/"
        },
        "id": "nhRcPAoaRSYl",
        "outputId": "51bba2ad-020d-452a-ac7e-9c306c8605dc"
      },
      "source": [
        "with open('entrada.txt') as f:\n",
        "  entrada = f.readlines()\n",
        "\n",
        "for codigo in range(0, len(entrada)):\n",
        "  entrada[codigo] = entrada[codigo].rstrip(\"\\n\").replace(\" \", \"\")\n",
        "\n",
        "print(entrada)\n",
        "\n",
        "for codigo in entrada:\n",
        "  codigo = str(codigo)\n",
        "  print('Estado inicial -> ' + inicial)\n",
        "  corrente = inicial\n",
        "  for digito in range(0, len(codigo)):\n",
        "    lido = codigo[digito]\n",
        "\n",
        "    estado_num = 0\n",
        "    for estado in automato[0].split():\n",
        "      if estado == corrente:\n",
        "        break;\n",
        "      estado_num = estado_num + 1\n",
        "    \n",
        "    lido2 = 0\n",
        "    for estado in automato[1].split():\n",
        "      if estado == lido:\n",
        "        break;\n",
        "      lido2 = lido2 + 1\n",
        "\n",
        "    print(matriz[estado_num, lido2])\n",
        "      \n",
        "    print('Símbolo lido -> ' + lido)\n",
        "    print('Estados correntes -> ' + corrente)\n",
        "\n",
        "  print('')"
      ],
      "execution_count": 109,
      "outputs": [
        {
          "output_type": "stream",
          "text": [
            "['0110101', '0101110', '1101010']\n",
            "Estado inicial -> q1\n",
            "q1\n",
            "Símbolo lido -> 0\n",
            "Estados correntes -> q1\n",
            "q1 q2\n",
            "Símbolo lido -> 1\n",
            "Estados correntes -> q1\n",
            "q1 q2\n",
            "Símbolo lido -> 1\n",
            "Estados correntes -> q1\n",
            "q1\n",
            "Símbolo lido -> 0\n",
            "Estados correntes -> q1\n",
            "q1 q2\n",
            "Símbolo lido -> 1\n",
            "Estados correntes -> q1\n",
            "q1\n",
            "Símbolo lido -> 0\n",
            "Estados correntes -> q1\n",
            "q1 q2\n",
            "Símbolo lido -> 1\n",
            "Estados correntes -> q1\n",
            "\n",
            "Estado inicial -> q1\n",
            "q1\n",
            "Símbolo lido -> 0\n",
            "Estados correntes -> q1\n",
            "q1 q2\n",
            "Símbolo lido -> 1\n",
            "Estados correntes -> q1\n",
            "q1\n",
            "Símbolo lido -> 0\n",
            "Estados correntes -> q1\n",
            "q1 q2\n",
            "Símbolo lido -> 1\n",
            "Estados correntes -> q1\n",
            "q1 q2\n",
            "Símbolo lido -> 1\n",
            "Estados correntes -> q1\n",
            "q1 q2\n",
            "Símbolo lido -> 1\n",
            "Estados correntes -> q1\n",
            "q1\n",
            "Símbolo lido -> 0\n",
            "Estados correntes -> q1\n",
            "\n",
            "Estado inicial -> q1\n",
            "q1 q2\n",
            "Símbolo lido -> 1\n",
            "Estados correntes -> q1\n",
            "q1 q2\n",
            "Símbolo lido -> 1\n",
            "Estados correntes -> q1\n",
            "q1\n",
            "Símbolo lido -> 0\n",
            "Estados correntes -> q1\n",
            "q1 q2\n",
            "Símbolo lido -> 1\n",
            "Estados correntes -> q1\n",
            "q1\n",
            "Símbolo lido -> 0\n",
            "Estados correntes -> q1\n",
            "q1 q2\n",
            "Símbolo lido -> 1\n",
            "Estados correntes -> q1\n",
            "q1\n",
            "Símbolo lido -> 0\n",
            "Estados correntes -> q1\n",
            "\n"
          ],
          "name": "stdout"
        }
      ]
    }
  ]
}