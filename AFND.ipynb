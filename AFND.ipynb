{
  "nbformat": 4,
  "nbformat_minor": 0,
  "metadata": {
    "colab": {
      "name": "AFND.ipynb",
      "provenance": [],
      "collapsed_sections": [],
      "toc_visible": true,
      "include_colab_link": true
    },
    "kernelspec": {
      "name": "python3",
      "display_name": "Python 3"
    },
    "language_info": {
      "name": "python"
    }
  },
  "cells": [
    {
      "cell_type": "markdown",
      "metadata": {
        "id": "view-in-github",
        "colab_type": "text"
      },
      "source": [
        "<a href=\"https://colab.research.google.com/github/IgorFortes/AFD/blob/main/AFND.ipynb\" target=\"_parent\"><img src=\"https://colab.research.google.com/assets/colab-badge.svg\" alt=\"Open In Colab\"/></a>"
      ]
    },
    {
      "cell_type": "code",
      "metadata": {
        "id": "HqbmONfggKZj",
        "colab": {
          "base_uri": "https://localhost:8080/"
        },
        "outputId": "cdac2fec-1da4-466b-9404-2c6b69a3a001"
      },
      "source": [
        "import numpy as np\n",
        "\n",
        "with open('automato.txt') as f:\n",
        "  automato = f.readlines()\n",
        "\n",
        "matriz = np.zeros((len(automato[0].rstrip(\"\\n\").rstrip(\" \").split())\n",
        "        ,len(automato[1].rstrip(\"\\n\").rstrip(\" \").split())+1)\n",
        "        ,dtype=np.object)\n",
        "\n",
        "line = 2\n",
        "for linha in range(0, len(automato[0].rstrip(\"\\n\").rstrip(\" \").split())):\n",
        "  for coluna in range(0, len(automato[1].rstrip(\"\\n\").rstrip(\" \").split())+1):\n",
        "    matriz[linha, coluna] = automato[line].rstrip(\"\\n\").rstrip(\" \")\n",
        "    line = line + 1\n",
        "print(matriz)\n",
        "\n",
        "inicial = automato[line].rstrip(\"\\n\").rstrip(\" \")\n",
        "final = automato[line+1].rstrip(\"\\n\").rstrip(\" \")"
      ],
      "execution_count": 2,
      "outputs": [
        {
          "output_type": "stream",
          "text": [
            "[['q1' 'q1 q2' '*']\n",
            " ['q3' '*' 'q3']\n",
            " ['*' 'q4' '*']\n",
            " ['q4' 'q4' '*']]\n"
          ],
          "name": "stdout"
        }
      ]
    },
    {
      "cell_type": "code",
      "metadata": {
        "colab": {
          "base_uri": "https://localhost:8080/"
        },
        "id": "nhRcPAoaRSYl",
        "outputId": "0a43af7e-d214-4c68-b8c8-ef623bcba0e5"
      },
      "source": [
        "with open('entrada.txt') as f:\n",
        "  entrada = f.readlines()\n",
        "\n",
        "for codigo in range(0, len(entrada)):\n",
        "  entrada[codigo] = entrada[codigo].rstrip(\"\\n\").replace(\" \", \"\")\n",
        "\n",
        "print(entrada)\n",
        "\n",
        "p = open(\"passos.txt\", \"a\")\n",
        "r = open(\"resultado.txt\", \"a\")\n",
        "\n",
        "for codigo in entrada:\n",
        "  codigo = str(codigo)\n",
        "  p.write('Estado inicial -> ' + inicial + '\\n')\n",
        "  corrente = inicial\n",
        "  for digito in range(0, len(codigo)):\n",
        "    lido = codigo[digito]\n",
        "\n",
        "    estado_num = 0\n",
        "    for estado in automato[0].split():\n",
        "      if estado == corrente:\n",
        "        break;\n",
        "      estado_num = estado_num + 1\n",
        "    \n",
        "    lido2 = 0\n",
        "    for estado in automato[1].split():\n",
        "      if estado == lido:\n",
        "        break;\n",
        "      lido2 = lido2 + 1\n",
        "      \n",
        "    p.write('Símbolo lido -> ' + lido + '\\n')\n",
        "    p.write('Estados correntes -> ' + corrente + '\\n')\n",
        "\n",
        "  print('')\n",
        "  if final == corrente:\n",
        "    r.write('Aceita\\n')\n",
        "  else:\n",
        "    r.write('Rejeita\\n')\n",
        "p.close()\n",
        "r.close()"
      ],
      "execution_count": 4,
      "outputs": [
        {
          "output_type": "stream",
          "text": [
            "['0110101', '0101110', '1101010']\n",
            "\n",
            "\n",
            "\n"
          ],
          "name": "stdout"
        }
      ]
    }
  ]
}